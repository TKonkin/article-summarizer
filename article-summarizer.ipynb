{
 "cells": [
  {
   "cell_type": "markdown",
   "metadata": {},
   "source": [
    "# Web Mining and Applied NLP (44-620)\n",
    "\n",
    "## Final Project: Article Summarizer\n",
    "\n",
    "### Student Name:  Terry Konkin  \n",
    "  \n",
    "https://github.com/TKonkin/article-summarizer\n",
    "\n",
    "Perform the tasks described in the Markdown cells below.  When you have completed the assignment make sure your code cells have all been run (and have output beneath them) and ensure you have committed and pushed ALL of your changes to your assignment repository.\n",
    "\n",
    "You should bring in code from previous assignments to help you answer the questions below.\n",
    "\n",
    "Every question that requires you to write code will have a code cell underneath it; you may either write your entire solution in that cell or write it in a python file (`.py`), then import and run the appropriate code to answer the question."
   ]
  },
  {
   "cell_type": "code",
   "execution_count": 1,
   "metadata": {},
   "outputs": [],
   "source": [
    "from collections import Counter\n",
    "import pickle\n",
    "import requests\n",
    "import spacy\n",
    "from spacytextblob.spacytextblob import SpacyTextBlob\n",
    "from bs4 import BeautifulSoup\n",
    "import matplotlib.pyplot as plt"
   ]
  },
  {
   "cell_type": "code",
   "execution_count": 2,
   "metadata": {},
   "outputs": [
    {
     "name": "stdout",
     "output_type": "stream",
     "text": [
      "Collecting en-core-web-sm==3.8.0\n",
      "  Downloading https://github.com/explosion/spacy-models/releases/download/en_core_web_sm-3.8.0/en_core_web_sm-3.8.0-py3-none-any.whl (12.8 MB)\n",
      "     ---------------------------------------- 0.0/12.8 MB ? eta -:--:--\n",
      "     --- ------------------------------------ 1.0/12.8 MB 6.3 MB/s eta 0:00:02\n",
      "     ---- ----------------------------------- 1.6/12.8 MB 6.6 MB/s eta 0:00:02\n",
      "     -------- ------------------------------- 2.6/12.8 MB 4.1 MB/s eta 0:00:03\n",
      "     ------------ --------------------------- 3.9/12.8 MB 4.7 MB/s eta 0:00:02\n",
      "     ---------------- ----------------------- 5.2/12.8 MB 5.0 MB/s eta 0:00:02\n",
      "     ------------------- -------------------- 6.3/12.8 MB 5.1 MB/s eta 0:00:02\n",
      "     ----------------------- ---------------- 7.6/12.8 MB 5.3 MB/s eta 0:00:01\n",
      "     --------------------------- ------------ 8.9/12.8 MB 5.4 MB/s eta 0:00:01\n",
      "     -------------------------------- ------- 10.5/12.8 MB 5.6 MB/s eta 0:00:01\n",
      "     ------------------------------------- -- 12.1/12.8 MB 5.7 MB/s eta 0:00:01\n",
      "     ---------------------------------------  12.6/12.8 MB 5.6 MB/s eta 0:00:01\n",
      "     ---------------------------------------- 12.8/12.8 MB 5.4 MB/s  0:00:02\n",
      "\u001b[38;5;2m✔ Download and installation successful\u001b[0m\n",
      "You can now load the package via spacy.load('en_core_web_sm')\n"
     ]
    }
   ],
   "source": [
    "# This cell is only run when the command is not successful in the terminal (occassionally happens).\n",
    "!python -m spacy download en_core_web_sm"
   ]
  },
  {
   "cell_type": "markdown",
   "metadata": {},
   "source": [
    "1. Find on the internet an article or blog post about a topic that interests you and you are able to get the text for using the technologies we have applied in the course.  Get the html for the article and store it in a file (which you must submit with your project)"
   ]
  },
  {
   "cell_type": "code",
   "execution_count": 5,
   "metadata": {},
   "outputs": [
    {
     "name": "stdout",
     "output_type": "stream",
     "text": [
      "article html saved to C:\\Projects\\article-summarizer\\goldman-saks-ai-powered-new-employee.html\n"
     ]
    }
   ],
   "source": [
    "# this url has a different source from what was submitted in D6, but the same article.\n",
    "\n",
    "url = \"https://web.archive.org/web/20250712011537/https://www.cnbc.com/2025/07/11/goldman-sachs-autonomous-coder-pilot-marks-major-ai-milestone.html\"\n",
    "\n",
    "response = requests.get(url)\n",
    "soup = BeautifulSoup(response.text, 'html5lib')\n",
    "\n",
    "article = soup.find('div', class_='Regular Article PageBuilder-page')\n",
    "article_html = str(article)\n",
    "\n",
    "file_path = r'C:\\Projects\\article-summarizer\\goldman-saks-ai-powered-new-employee.html'\n",
    "\n",
    "with open(file_path, 'wb') as f:\n",
    "    f.write(article_html.encode('utf-8'))\n",
    "\n",
    "print(f\"article html saved to {file_path}\")\n",
    "\n"
   ]
  },
  {
   "cell_type": "markdown",
   "metadata": {},
   "source": [
    "2. Read in your article's html source from the file you created in question 1 and do sentiment analysis on the article/post's text (use `.get_text()`).  Print the polarity score with an appropriate label.  Additionally print the number of sentences in the original article (with an appropriate label)"
   ]
  },
  {
   "cell_type": "code",
   "execution_count": 8,
   "metadata": {},
   "outputs": [
    {
     "name": "stdout",
     "output_type": "stream",
     "text": [
      "article polarity: 0.129\n"
     ]
    }
   ],
   "source": [
    "# polarity score\n",
    "\n",
    "nlp = spacy.load(\"en_core_web_sm\")\n",
    "nlp.add_pipe(\"spacytextblob\")\n",
    "\n",
    "with open(file_path, 'r', encoding='utf-8') as f:\n",
    "    html_content = f.read()\n",
    "    \n",
    "soup = BeautifulSoup(html_content, 'html.parser')\n",
    "\n",
    "for tag in soup(['script', 'style']):\n",
    "    tag.decompose()\n",
    "\n",
    "article_text = soup.get_text(separator='\\n', strip=True)\n",
    "\n",
    "doc = nlp(article_text)\n",
    "\n",
    "print(f\"article polarity: {doc._.blob.polarity:.3f}\")\n",
    "\n",
    "\n",
    "\n"
   ]
  },
  {
   "cell_type": "code",
   "execution_count": 9,
   "metadata": {},
   "outputs": [
    {
     "name": "stdout",
     "output_type": "stream",
     "text": [
      "number of sentences: 32\n"
     ]
    }
   ],
   "source": [
    "# number of sentences\n",
    "\n",
    "sentence_count = 0\n",
    "for sentence in doc.sents:\n",
    "    sentence_count += 1\n",
    "\n",
    "print(f\"number of sentences: {sentence_count}\")\n",
    "\n",
    "\n"
   ]
  },
  {
   "cell_type": "markdown",
   "metadata": {},
   "source": [
    "3. Load the article text into a trained `spaCy` pipeline, and determine the 5 most frequent tokens (converted to lower case).  Print the common tokens with an appropriate label.  Additionally, print the tokens their frequencies (with appropriate labels)"
   ]
  },
  {
   "cell_type": "code",
   "execution_count": 15,
   "metadata": {},
   "outputs": [
    {
     "name": "stdout",
     "output_type": "stream",
     "text": [
      "5 most common tokens:\n",
      "ai\n",
      "goldman\n",
      "argenti\n",
      "devin\n",
      "said\n",
      "5 most common tokens, and their frequencies:\n",
      "'ai': 17 times\n",
      "'goldman': 12 times\n",
      "'argenti': 8 times\n",
      "'devin': 8 times\n",
      "'said': 8 times\n"
     ]
    }
   ],
   "source": [
    "tokens = []\n",
    "\n",
    "for token in doc:\n",
    "    \n",
    "    if not token.is_stop and not token.is_punct and not token.is_space:\n",
    "        \n",
    "        tokens.append(token.text.lower())\n",
    "\n",
    "word_freq = Counter(tokens)\n",
    "\n",
    "common_tokens = word_freq.most_common(5)\n",
    "\n",
    "print(\"5 most common tokens:\")\n",
    "for token in common_tokens:\n",
    "    print(token[0])\n",
    "\n",
    "print(\"5 most common tokens, and their frequencies:\")\n",
    "for token, freq in common_tokens:\n",
    "    print(f\"'{token}': {freq} times\")\n",
    "\n"
   ]
  },
  {
   "cell_type": "markdown",
   "metadata": {},
   "source": [
    "4. Load the article text into a trained `spaCy` pipeline, and determine the 5 most frequent lemmas (converted to lower case).  Print the common lemmas with an appropriate label.  Additionally, print the lemmas with their frequencies (with appropriate labels)."
   ]
  },
  {
   "cell_type": "code",
   "execution_count": 16,
   "metadata": {},
   "outputs": [
    {
     "name": "stdout",
     "output_type": "stream",
     "text": [
      "5 most common lemmas:\n",
      "ai\n",
      "goldman\n",
      "say\n",
      "engineer\n",
      "argenti\n",
      "5 most common lemmas, and their frequencies:\n",
      "'ai': 18 times\n",
      "'goldman': 12 times\n",
      "'say': 10 times\n",
      "'engineer': 8 times\n",
      "'argenti': 8 times\n"
     ]
    }
   ],
   "source": [
    "lemmas = []\n",
    "\n",
    "for token in doc:\n",
    "    \n",
    "    if not token.is_stop and not token.is_punct and not token.is_space:\n",
    "        \n",
    "        lemmas.append(token.lemma_.lower())\n",
    "\n",
    "lemma_freq = Counter(lemmas)\n",
    "\n",
    "common_lemmas = lemma_freq.most_common(5)\n",
    "\n",
    "print(\"5 most common lemmas:\")\n",
    "for lemma in common_lemmas:\n",
    "    print(lemma[0])\n",
    "\n",
    "print(\"5 most common lemmas, and their frequencies:\")\n",
    "for lemma, freq in common_lemmas:\n",
    "    print(f\"'{lemma}': {freq} times\")\n",
    "\n"
   ]
  },
  {
   "cell_type": "markdown",
   "metadata": {},
   "source": [
    "5. Make a list containing the scores (using tokens) of every sentence in the article, and plot a histogram with appropriate titles and axis labels of the scores. From your histogram, what seems to be the most common range of scores (put the answer in a comment after your code)?"
   ]
  },
  {
   "cell_type": "code",
   "execution_count": 21,
   "metadata": {},
   "outputs": [
    {
     "data": {
      "image/png": "[encoded data removed]",
      "text/plain": [
       "<Figure size 1000x600 with 1 Axes>"
      ]
     },
     "metadata": {},
     "output_type": "display_data"
    }
   ],
   "source": [
    "token_scores = []\n",
    "\n",
    "for sent in doc.sents:\n",
    "    token_scores.append(sent._.blob.polarity)\n",
    "\n",
    "plt.figure(figsize=(10, 6))\n",
    "plt.hist(token_scores, bins=20, edgecolor='black', color='skyblue')\n",
    "plt.title(\"Distribution of Token Scores\")\n",
    "plt.xlabel(\"Token Score\")\n",
    "plt.ylabel(\"Number of Sentences\")\n",
    "plt.grid(True)\n",
    "plt.show()\n",
    "\n",
    "# the most common range of scores is 0 to 0.3\n",
    "\n"
   ]
  },
  {
   "cell_type": "markdown",
   "metadata": {},
   "source": [
    "6. Make a list containing the scores (using lemmas) of every sentence in the article, and plot a histogram with appropriate titles and axis labels of the scores.  From your histogram, what seems to be the most common range of scores (put the answer in a comment after your code)?"
   ]
  },
  {
   "cell_type": "code",
   "execution_count": 24,
   "metadata": {},
   "outputs": [
    {
     "data": {
      "image/png": "[encoded data removed]",
      "text/plain": [
       "<Figure size 1000x600 with 1 Axes>"
      ]
     },
     "metadata": {},
     "output_type": "display_data"
    }
   ],
   "source": [
    "lemma_scores = []\n",
    "\n",
    "for sentence in doc.sents:\n",
    "    \n",
    "    lemmas_in_sentence = []\n",
    "\n",
    "    for token in sentence:\n",
    "        \n",
    "        if not token.is_stop and not token.is_punct and not token.is_space:\n",
    "            \n",
    "            lemmas_in_sentence.append(token.lemma_.lower())\n",
    "    \n",
    "    clean_sentence = ' '.join(lemmas_in_sentence)\n",
    "\n",
    "    clean_doc = nlp(clean_sentence)\n",
    "\n",
    "    polarity_score = clean_doc._.blob.polarity\n",
    "\n",
    "    lemma_scores.append(polarity_score)\n",
    "\n",
    "plt.figure(figsize=(10, 6))\n",
    "plt.hist(lemma_scores, bins=20, color='orange', edgecolor='black')\n",
    "plt.title(\"Distribution of Lemma Scores\")\n",
    "plt.xlabel(\"Lemma Score\")\n",
    "plt.ylabel(\"Number of Sentences\")\n",
    "plt.grid(True)\n",
    "plt.show()\n",
    "\n",
    "# the most common range of scores is -.02 to 0.2\n",
    "\n"
   ]
  },
  {
   "cell_type": "markdown",
   "metadata": {},
   "source": [
    "7. Using the histograms from questions 5 and 6, decide a \"cutoff\" score for tokens and lemmas such that fewer than half the sentences would have a score greater than the cutoff score.  Record the scores in this Markdown cell\n",
    "\n",
    "* Cutoff Score (tokens): 0.1  \n",
    "* Cutoff Score (lemmas):  0.0\n",
    "\n",
    "Feel free to change these scores as you generate your summaries.  Ideally, we're shooting for at least 6 sentences for our summary, but don't want more than 10 (these numbers are rough estimates; they depend on the length of your article)."
   ]
  },
  {
   "cell_type": "markdown",
   "metadata": {},
   "source": [
    "8. Create a summary of the article by going through every sentence in the article and adding it to an (initially) empty list if its score (based on tokens) is greater than the cutoff score you identified in question 8.  If your loop variable is named `sent`, you may find it easier to add `sent.text.strip()` to your list of sentences.  Print the summary (I would cleanly generate the summary text by `join`ing the strings in your list together with a space (`' '.join(sentence_list)`)."
   ]
  },
  {
   "cell_type": "code",
   "execution_count": 25,
   "metadata": {},
   "outputs": [
    {
     "name": "stdout",
     "output_type": "stream",
     "text": [
      "=== Token-Based Summary ===\n",
      "The program, named Devin, became known in technology circles last year with Cognition's claim that it had created the world's first AI software engineer. It's the latest indicator of the dizzying speed in which AI is being adopted in the corporate world. In this article\n",
      "GS\n",
      "Follow your favorite stocks\n",
      "CREATE FREE ACCOUNT\n",
      "watch now\n",
      "VIDEO\n",
      "3:21\n",
      "03:21\n",
      "Goldman Sachs tests agentic AI to automate software engineering\n",
      "Worldwide Exchange\n",
      "The newest hire at\n",
      "Goldman Sachs\n",
      "isn't human. The program, named Devin, became known in technology circles last year with Cognition's claim that it had created the world's first AI software engineer. \"We're going to start augmenting our workforce with Devin, which is going to be like our new employee who's going to start doing stuff on the behalf of our developers,\" Argenti said this week in an interview. It's the latest indicator of the dizzying speed in which AI is being adopted in the corporate world. Just last year, Wall Street firms including\n",
      "JPMorgan Chase\n",
      "and\n",
      "Morgan Stanley\n",
      "were\n",
      "rolling out\n",
      "cognitive assistants based on OpenAI models to get employees\n",
      "acquainted\n",
      "with the technology. At Goldman Sachs, one of the world's top investment banks, this more powerful form of AI has the potential to boost worker productivity by up to three or four times the rate of previous AI tools, according to Argenti. The company counts Peter Thiel and Joe Lonsdale, the prominent venture capitalists and\n",
      "Palantir\n",
      "co-founders, among its investors. Goldman doesn't own a stake in Cognition, according to a person with knowledge of the matter who declined to be identified speaking about the bank's investments. Executives at companies from\n",
      "Amazon\n",
      "to\n",
      "Ford\n",
      "have\n",
      "grown more candid\n",
      "about what AI will mean for hiring plans. Banks around the world will cut as many as 200,000 jobs in the next three to five years as they implement AI, Bloomberg's research arm\n",
      "said\n",
      "in January. \"It's really about people and AIs working side by side,\" Argenti said. \"Engineers are going to be expected to have the ability to really describe problems in a coherent way and turn it into prompts … and then be able to supervise the work of those agents. \"\n",
      "While the role of software developer is one that most lends itself to the type of training, called\n",
      "reinforcement\n",
      "learning, that is used to make AI smarter, other roles at a bank aren't far off from being automated, according to Argenti. \"Those models are basically just as good as any developer, it's really cool,\" Argenti said.\n"
     ]
    }
   ],
   "source": [
    "cutoff_token_score = 0.1\n",
    "\n",
    "summary_token_sentences = []\n",
    "\n",
    "for index in range(len(token_scores)):\n",
    "    score = token_scores[index]\n",
    "    sentence = list(doc.sents)[index]\n",
    "    \n",
    "    if score > cutoff_token_score:\n",
    "        summary_token_sentences.append(sentence.text.strip())\n",
    "\n",
    "token_based_summary = ' '.join(summary_token_sentences)\n",
    "\n",
    "print(\"=== Token-Based Summary ===\")\n",
    "print(token_based_summary)\n",
    "\n"
   ]
  },
  {
   "cell_type": "markdown",
   "metadata": {},
   "source": [
    "9. Print the polarity score of your summary you generated with the token scores (with an appropriate label). Additionally, print the number of sentences in the summarized article."
   ]
  },
  {
   "cell_type": "code",
   "execution_count": 26,
   "metadata": {},
   "outputs": [
    {
     "name": "stdout",
     "output_type": "stream",
     "text": [
      "Polarity Score (Token-Based Summary): 0.261\n",
      "Number of Sentences (Token-Based Summary): 16\n"
     ]
    }
   ],
   "source": [
    "summary_doc_token = nlp(token_based_summary)\n",
    "\n",
    "print(\"Polarity Score (Token-Based Summary):\", round(summary_doc_token._.blob.polarity, 3))\n",
    "print(\"Number of Sentences (Token-Based Summary):\", len(summary_token_sentences))\n",
    "\n"
   ]
  },
  {
   "cell_type": "markdown",
   "metadata": {},
   "source": [
    "10. Create a summary of the article by going through every sentence in the article and adding it to an (initially) empty list if its score (based on lemmas) is greater than the cutoff score you identified in question 8.  If your loop variable is named `sent`, you may find it easier to add `sent.text.strip()` to your list of sentences.  Print the summary (I would cleanly generate the summary text by `join`ing the strings in your list together with a space (`' '.join(sentence_list)`)."
   ]
  },
  {
   "cell_type": "code",
   "execution_count": 27,
   "metadata": {},
   "outputs": [
    {
     "name": "stdout",
     "output_type": "stream",
     "text": [
      "=== Lemma-Based Summary ===\n",
      "In this article\n",
      "GS\n",
      "Follow your favorite stocks\n",
      "CREATE FREE ACCOUNT\n",
      "watch now\n",
      "VIDEO\n",
      "3:21\n",
      "03:21\n",
      "Goldman Sachs tests agentic AI to automate software engineering\n",
      "Worldwide Exchange\n",
      "The newest hire at\n",
      "Goldman Sachs\n",
      "isn't human. \"We're going to start augmenting our workforce with Devin, which is going to be like our new employee who's going to start doing stuff on the behalf of our developers,\" Argenti said this week in an interview. Now, the arrival of agentic AI on Wall Street — referencing programs like Devin that don't just help humans with tasks like summarizing documents or writing emails, but instead execute complex multi-step jobs like building entire apps — signals a much larger shift, with greater potential rewards. At Goldman Sachs, one of the world's top investment banks, this more powerful form of AI has the potential to boost worker productivity by up to three or four times the rate of previous AI tools, according to Argenti. In Icon\n",
      "Arrows pointing outwards\n",
      "Devin, an AI software developer, from a startup called Cognition Labs, which is valued at nearly $4 billion and counts Peter Thiel’s Founders Fund among investors. In March, the startup\n",
      "doubled\n",
      "its valuation to nearly $4 billion just a year after the release of Devin. The company counts Peter Thiel and Joe Lonsdale, the prominent venture capitalists and\n",
      "Palantir\n",
      "co-founders, among its investors. The bank's move could spark a fresh round of anxiety on Wall Street and beyond about job cuts as a result of AI. Executives at companies from\n",
      "Amazon\n",
      "to\n",
      "Ford\n",
      "have\n",
      "grown more candid\n",
      "about what AI will mean for hiring plans. For his part, Argenti — who\n",
      "joined\n",
      "Goldman from Amazon in 2019 — charted out a vision for the near future that he called a \"hybrid workforce\" where humans and AI coexist. \"Engineers are going to be expected to have the ability to really describe problems in a coherent way and turn it into prompts … and then be able to supervise the work of those agents. \"\n",
      "While the role of software developer is one that most lends itself to the type of training, called\n",
      "reinforcement\n",
      "learning, that is used to make AI smarter, other roles at a bank aren't far off from being automated, according to Argenti. \"Those models are basically just as good as any developer, it's really cool,\" Argenti said. \"So I think that will serve as a proof point also to expand it to other places.\"\n",
      "Don’t miss these insights from CNBC PRO\n",
      "Morgan Stanley says buy these five stocks that are set to rally\n",
      "Amazon shares form 'golden cross' as Prime Day kicks off\n",
      "Investors expect bitcoin to break out to new records in the second half from a consolidation phase\n",
      "Goldman Sachs says these buy-rated stocks offer solid dividends\n"
     ]
    }
   ],
   "source": [
    "cutoff_lemma_score = 0.0 # from above calcs\n",
    "\n",
    "# Create a list to hold selected sentences for the summary\n",
    "summary_lemma_sentences = []\n",
    "\n",
    "# Loop through each sentence and compare its lemma-based score to the cutoff\n",
    "for index in range(len(lemma_scores)):\n",
    "    score = lemma_scores[index]\n",
    "    sentence = list(doc.sents)[index]\n",
    "\n",
    "    if score > cutoff_lemma_score:\n",
    "        clean_sentence = sentence.text.strip() \n",
    "        summary_lemma_sentences.append(clean_sentence)\n",
    "\n",
    "# Join the selected sentences into a single summary string\n",
    "lemma_based_summary = ' '.join(summary_lemma_sentences)\n",
    "\n",
    "# Print the summary\n",
    "print(\"=== Lemma-Based Summary ===\")\n",
    "print(lemma_based_summary)\n",
    "\n"
   ]
  },
  {
   "cell_type": "markdown",
   "metadata": {},
   "source": [
    "11. Print the polarity score of your summary you generated with the lemma scores (with an appropriate label). Additionally, print the number of sentences in the summarized article."
   ]
  },
  {
   "cell_type": "code",
   "execution_count": 28,
   "metadata": {},
   "outputs": [
    {
     "name": "stdout",
     "output_type": "stream",
     "text": [
      "Polarity Score (Lemma-Based Summary): 0.171\n",
      "Number of Sentences (Lemma-Based Summary): 14\n"
     ]
    }
   ],
   "source": [
    "summary_doc_lemma = nlp(lemma_based_summary)\n",
    "\n",
    "print(\"Polarity Score (Lemma-Based Summary):\", round(summary_doc_lemma._.blob.polarity, 3))\n",
    "print(\"Number of Sentences (Lemma-Based Summary):\", len(summary_lemma_sentences))\n",
    "\n"
   ]
  },
  {
   "cell_type": "markdown",
   "metadata": {},
   "source": [
    "12.  Compare your polarity scores of your summaries to the polarity scores of the initial article.  Is there a difference?  Why do you think that may or may not be?.  Answer in this Markdown cell.  \n",
    "    \n",
    "Initial article: 0.129  \n",
    "Token summary: 0.261  \n",
    "Lemma summary:  0.171  \n",
    "\n",
    "Both summaries are higher because they are based on greater than the cutoff score, so are therefore reflective of the most positive aspects of the article.  \n",
    " \n",
    "The token summary is higher because (according to AI) it considers the raw verbiage, so is more sensitive to sentiment spikes.\n"
   ]
  },
  {
   "cell_type": "markdown",
   "metadata": {},
   "source": [
    "13. Based on your reading of the original article, which summary do you think is better (if there's a difference).  Why do you think this might be?  \n",
    "    \n",
    "There does not appear to be a noticeable difference.  Similar to the previous assignment on polarity, sentiment seems to be more suited to customer reviews, rather than a news article such as this."
   ]
  }
 ],
 "metadata": {
  "kernelspec": {
   "display_name": ".venv",
   "language": "python",
   "name": "python3"
  },
  "language_info": {
   "codemirror_mode": {
    "name": "ipython",
    "version": 3
   },
   "file_extension": ".py",
   "mimetype": "text/x-python",
   "name": "python",
   "nbconvert_exporter": "python",
   "pygments_lexer": "ipython3",
   "version": "3.13.1"
  }
 },
 "nbformat": 4,
 "nbformat_minor": 4
}
